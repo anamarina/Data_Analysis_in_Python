{
 "cells": [
  {
   "cell_type": "markdown",
   "metadata": {},
   "source": [
    "# <center> Hypotheses testing </center>"
   ]
  },
  {
   "cell_type": "code",
   "execution_count": 3,
   "metadata": {},
   "outputs": [],
   "source": [
    "import numpy as np\n",
    "import pandas as pd\n",
    "from scipy import stats # https://docs.scipy.org/doc/scipy/reference/stats.html\n",
    "import seaborn as sns\n",
    "import matplotlib.pyplot as plt\n",
    "\n",
    "plt.style.use('ggplot')\n",
    "%matplotlib inline\n",
    "\n",
    "import warnings\n",
    "warnings.filterwarnings('ignore')"
   ]
  },
  {
   "cell_type": "code",
   "execution_count": 4,
   "metadata": {},
   "outputs": [
    {
     "data": {
      "text/html": [
       "<div>\n",
       "<style scoped>\n",
       "    .dataframe tbody tr th:only-of-type {\n",
       "        vertical-align: middle;\n",
       "    }\n",
       "\n",
       "    .dataframe tbody tr th {\n",
       "        vertical-align: top;\n",
       "    }\n",
       "\n",
       "    .dataframe thead th {\n",
       "        text-align: right;\n",
       "    }\n",
       "</style>\n",
       "<table border=\"1\" class=\"dataframe\">\n",
       "  <thead>\n",
       "    <tr style=\"text-align: right;\">\n",
       "      <th></th>\n",
       "      <th>group</th>\n",
       "      <th>student</th>\n",
       "      <th>a1_coursera</th>\n",
       "      <th>a2_coursera</th>\n",
       "      <th>b_coursera</th>\n",
       "      <th>coursera</th>\n",
       "      <th>d1a</th>\n",
       "      <th>d1b</th>\n",
       "      <th>d1c</th>\n",
       "      <th>d1d</th>\n",
       "      <th>...</th>\n",
       "      <th>k1b</th>\n",
       "      <th>k1c</th>\n",
       "      <th>k1d</th>\n",
       "      <th>k1e</th>\n",
       "      <th>k1f</th>\n",
       "      <th>k1f.1</th>\n",
       "      <th>k1prel</th>\n",
       "      <th>k1</th>\n",
       "      <th>total</th>\n",
       "      <th>final</th>\n",
       "    </tr>\n",
       "  </thead>\n",
       "  <tbody>\n",
       "    <tr>\n",
       "      <th>0</th>\n",
       "      <td>БЭК181</td>\n",
       "      <td>eds_python_2020_1</td>\n",
       "      <td>50.0</td>\n",
       "      <td>50.0</td>\n",
       "      <td>40.0</td>\n",
       "      <td>10.0</td>\n",
       "      <td>1.0</td>\n",
       "      <td>1.0</td>\n",
       "      <td>1.0</td>\n",
       "      <td>1.0</td>\n",
       "      <td>...</td>\n",
       "      <td>10.0</td>\n",
       "      <td>20.0</td>\n",
       "      <td>30.0</td>\n",
       "      <td>4.0</td>\n",
       "      <td>22.0</td>\n",
       "      <td>5.0</td>\n",
       "      <td>101.0</td>\n",
       "      <td>10.1</td>\n",
       "      <td>4.520000</td>\n",
       "      <td>5.0</td>\n",
       "    </tr>\n",
       "    <tr>\n",
       "      <th>1</th>\n",
       "      <td>БЭК181</td>\n",
       "      <td>eds_python_2020_2</td>\n",
       "      <td>50.0</td>\n",
       "      <td>50.0</td>\n",
       "      <td>40.0</td>\n",
       "      <td>10.0</td>\n",
       "      <td>1.0</td>\n",
       "      <td>1.0</td>\n",
       "      <td>1.0</td>\n",
       "      <td>1.0</td>\n",
       "      <td>...</td>\n",
       "      <td>10.0</td>\n",
       "      <td>20.0</td>\n",
       "      <td>NaN</td>\n",
       "      <td>16.0</td>\n",
       "      <td>12.0</td>\n",
       "      <td>NaN</td>\n",
       "      <td>67.0</td>\n",
       "      <td>6.7</td>\n",
       "      <td>3.840000</td>\n",
       "      <td>4.0</td>\n",
       "    </tr>\n",
       "    <tr>\n",
       "      <th>2</th>\n",
       "      <td>БЭК181</td>\n",
       "      <td>eds_python_2020_3</td>\n",
       "      <td>50.0</td>\n",
       "      <td>50.0</td>\n",
       "      <td>40.0</td>\n",
       "      <td>10.0</td>\n",
       "      <td>1.0</td>\n",
       "      <td>1.0</td>\n",
       "      <td>1.0</td>\n",
       "      <td>1.0</td>\n",
       "      <td>...</td>\n",
       "      <td>10.0</td>\n",
       "      <td>20.0</td>\n",
       "      <td>NaN</td>\n",
       "      <td>20.0</td>\n",
       "      <td>30.0</td>\n",
       "      <td>NaN</td>\n",
       "      <td>82.0</td>\n",
       "      <td>8.2</td>\n",
       "      <td>4.140000</td>\n",
       "      <td>4.0</td>\n",
       "    </tr>\n",
       "    <tr>\n",
       "      <th>3</th>\n",
       "      <td>БЭК181</td>\n",
       "      <td>eds_python_2020_4</td>\n",
       "      <td>50.0</td>\n",
       "      <td>50.0</td>\n",
       "      <td>40.0</td>\n",
       "      <td>10.0</td>\n",
       "      <td>1.0</td>\n",
       "      <td>1.0</td>\n",
       "      <td>1.0</td>\n",
       "      <td>1.0</td>\n",
       "      <td>...</td>\n",
       "      <td>10.0</td>\n",
       "      <td>20.0</td>\n",
       "      <td>NaN</td>\n",
       "      <td>16.0</td>\n",
       "      <td>14.0</td>\n",
       "      <td>NaN</td>\n",
       "      <td>70.0</td>\n",
       "      <td>7.0</td>\n",
       "      <td>3.900000</td>\n",
       "      <td>4.0</td>\n",
       "    </tr>\n",
       "    <tr>\n",
       "      <th>4</th>\n",
       "      <td>БЭК181</td>\n",
       "      <td>eds_python_2020_5</td>\n",
       "      <td>50.0</td>\n",
       "      <td>50.0</td>\n",
       "      <td>40.0</td>\n",
       "      <td>10.0</td>\n",
       "      <td>0.0</td>\n",
       "      <td>1.0</td>\n",
       "      <td>1.0</td>\n",
       "      <td>0.0</td>\n",
       "      <td>...</td>\n",
       "      <td>10.0</td>\n",
       "      <td>12.0</td>\n",
       "      <td>0.0</td>\n",
       "      <td>16.0</td>\n",
       "      <td>22.0</td>\n",
       "      <td>NaN</td>\n",
       "      <td>70.0</td>\n",
       "      <td>7.0</td>\n",
       "      <td>3.566667</td>\n",
       "      <td>4.0</td>\n",
       "    </tr>\n",
       "  </tbody>\n",
       "</table>\n",
       "<p>5 rows × 26 columns</p>\n",
       "</div>"
      ],
      "text/plain": [
       "    group            student  a1_coursera  a2_coursera  b_coursera  coursera  \\\n",
       "0  БЭК181  eds_python_2020_1         50.0         50.0        40.0      10.0   \n",
       "1  БЭК181  eds_python_2020_2         50.0         50.0        40.0      10.0   \n",
       "2  БЭК181  eds_python_2020_3         50.0         50.0        40.0      10.0   \n",
       "3  БЭК181  eds_python_2020_4         50.0         50.0        40.0      10.0   \n",
       "4  БЭК181  eds_python_2020_5         50.0         50.0        40.0      10.0   \n",
       "\n",
       "   d1a  d1b  d1c  d1d  ...   k1b   k1c   k1d   k1e   k1f  k1f.1  k1prel    k1  \\\n",
       "0  1.0  1.0  1.0  1.0  ...  10.0  20.0  30.0   4.0  22.0    5.0   101.0  10.1   \n",
       "1  1.0  1.0  1.0  1.0  ...  10.0  20.0   NaN  16.0  12.0    NaN    67.0   6.7   \n",
       "2  1.0  1.0  1.0  1.0  ...  10.0  20.0   NaN  20.0  30.0    NaN    82.0   8.2   \n",
       "3  1.0  1.0  1.0  1.0  ...  10.0  20.0   NaN  16.0  14.0    NaN    70.0   7.0   \n",
       "4  0.0  1.0  1.0  0.0  ...  10.0  12.0   0.0  16.0  22.0    NaN    70.0   7.0   \n",
       "\n",
       "      total  final  \n",
       "0  4.520000    5.0  \n",
       "1  3.840000    4.0  \n",
       "2  4.140000    4.0  \n",
       "3  3.900000    4.0  \n",
       "4  3.566667    4.0  \n",
       "\n",
       "[5 rows x 26 columns]"
      ]
     },
     "execution_count": 4,
     "metadata": {},
     "output_type": "execute_result"
    }
   ],
   "source": [
    "data = pd.read_csv('students_grades.csv')\n",
    "data.head()"
   ]
  },
  {
   "cell_type": "code",
   "execution_count": 5,
   "metadata": {},
   "outputs": [],
   "source": [
    "data.dropna(subset=[\"k1\"], inplace=True)"
   ]
  },
  {
   "cell_type": "markdown",
   "metadata": {},
   "source": [
    "<img src=\"http://work.thaslwanter.at/Stats/html/_images/DistributionFunctions.png\" width=500>"
   ]
  },
  {
   "cell_type": "markdown",
   "metadata": {},
   "source": [
    "* **Probability density function (PDF)**: note that to obtain the probability for the variable appearing in a certain interval, you have to integrate the PDF over that range.\n",
    "\n",
    "Example: What is the chance that a man is between 165 and 170 cm tall?\n",
    "\n",
    "* **Cumulative distribution function (CDF)**: gives the probability of obtaining a value smaller than the given value.\n",
    "\n",
    "Example: What is the chance that a man is less than 165 cm tall?\n",
    "\n",
    "* **Percentile point function (PPF, inverse of cdf))**: the inverse of the CDF. Answers the question “Given a certain probability, what is the corresponding value for the CDF?”\n",
    "\n",
    "Example: Given that I am looking for a man who is smaller than 95% of all other men, what size does the subject have to be?"
   ]
  },
  {
   "cell_type": "code",
   "execution_count": 6,
   "metadata": {},
   "outputs": [
    {
     "data": {
      "text/plain": [
       "(-1.96, 1.96)"
      ]
     },
     "execution_count": 6,
     "metadata": {},
     "output_type": "execute_result"
    }
   ],
   "source": [
    "norm_rv = stats.norm()\n",
    "# quantiles for two-sided tails at a significance level of 0.05\n",
    "alpha = 0.05\n",
    "round(norm_rv.ppf(alpha/2), 2), round(norm_rv.ppf(1 - alpha/2), 2)"
   ]
  },
  {
   "cell_type": "markdown",
   "metadata": {},
   "source": [
    "The method ```norm_rv.ppf()``` takes a percentage and returns a standard deviation multiplier for what value that percentage occurs at.\n",
    "\n",
    "It is equivalent to a, 'One-tail test' on the density plot. This will return a value (that functions as a 'standard-deviation multiplier') marking where 95% of data points would be contained if our data is a normal distribution."
   ]
  },
  {
   "cell_type": "code",
   "execution_count": 7,
   "metadata": {},
   "outputs": [
    {
     "data": {
      "text/plain": [
       "(5.431282051282051, 3.1658426832055393)"
      ]
     },
     "execution_count": 7,
     "metadata": {},
     "output_type": "execute_result"
    }
   ],
   "source": [
    "x = data.k1.values\n",
    "\n",
    "mean_hat = x.mean()\n",
    "std_hat = x.std()\n",
    "mean_hat, std_hat"
   ]
  },
  {
   "cell_type": "code",
   "execution_count": 8,
   "metadata": {},
   "outputs": [
    {
     "data": {
      "text/plain": [
       "(0.0, 13.0)"
      ]
     },
     "execution_count": 8,
     "metadata": {},
     "output_type": "execute_result"
    }
   ],
   "source": [
    "min(x), max(x)"
   ]
  },
  {
   "cell_type": "markdown",
   "metadata": {},
   "source": [
    "__a)__ Plot a histogram for the grades of the first control work (```k1``` variable)."
   ]
  },
  {
   "cell_type": "code",
   "execution_count": 9,
   "metadata": {},
   "outputs": [
    {
     "data": {
      "text/plain": [
       "390"
      ]
     },
     "execution_count": 9,
     "metadata": {},
     "output_type": "execute_result"
    }
   ],
   "source": [
    "data.student.nunique() # data.shape[0]"
   ]
  },
  {
   "cell_type": "code",
   "execution_count": 11,
   "metadata": {},
   "outputs": [
    {
     "data": {
      "image/png": "[encoded data removed]",
      "text/plain": [
       "<Figure size 432x288 with 1 Axes>"
      ]
     },
     "metadata": {
      "needs_background": "light"
     },
     "output_type": "display_data"
    }
   ],
   "source": [
    "# histogram using matplotlib.pyplot\n",
    "\n",
    "xs = np.linspace(0, 13)\n",
    "ys = stats.norm(mean_hat, std_hat).pdf(xs)\n",
    "plt.plot(xs, ys, color=\"black\")\n",
    "data.k1.hist(bins=20, density=True, color='r');"
   ]
  },
  {
   "cell_type": "code",
   "execution_count": 13,
   "metadata": {},
   "outputs": [
    {
     "data": {
      "image/png": "[encoded data removed]",
      "text/plain": [
       "<Figure size 432x288 with 1 Axes>"
      ]
     },
     "metadata": {
      "needs_background": "light"
     },
     "output_type": "display_data"
    }
   ],
   "source": [
    "# histogram using seaborn\n",
    "sns.distplot(data['k1']);\n",
    "plt.title('Distribution of grades')\n",
    "plt.xlabel('Grades')\n",
    "plt.ylabel('Number of students');"
   ]
  },
  {
   "cell_type": "markdown",
   "metadata": {},
   "source": [
    "Let's assume the incredible - the independence and the same distribution of our observations!\n",
    "\n",
    "__b)__ Plot an approximate $95\\%$ -th confidence interval for the expected result of k1 (the first control work).\n",
    "\n",
    "$$\n",
    "\\left[\\bar x - z_{crit} \\sqrt{\\frac{\\hat\\sigma^2}{n}} ; \\bar x + z_{crit} \\sqrt{\\frac{\\hat\\sigma^2}{n}} \\right]\n",
    "$$"
   ]
  },
  {
   "cell_type": "code",
   "execution_count": 14,
   "metadata": {},
   "outputs": [
    {
     "data": {
      "text/plain": [
       "True"
      ]
     },
     "execution_count": 14,
     "metadata": {},
     "output_type": "execute_result"
    }
   ],
   "source": [
    "x.var() == x.std() ** 2"
   ]
  },
  {
   "cell_type": "code",
   "execution_count": 15,
   "metadata": {},
   "outputs": [],
   "source": [
    "alpha = 0.05 # probability of rejecting a true null hypothesis (type 1 error)\n",
    "x = data.k1.values\n",
    "mean_hat = x.mean()\n",
    "var_hat = x.var()\n",
    "n = x.size"
   ]
  },
  {
   "cell_type": "code",
   "execution_count": 18,
   "metadata": {},
   "outputs": [
    {
     "name": "stdout",
     "output_type": "stream",
     "text": [
      "Student's quantile: 1.9661\n",
      "Confidence interval [5.116; 5.746] of width 0.63\n"
     ]
    }
   ],
   "source": [
    "# The exact confidence interval\n",
    "# We assume that the sample is normal and small => z_crit is taken from the Student's distribution\n",
    "\n",
    "#  n-1 is used is because that is the number of degrees of freedom in the sample\n",
    "t_crit = stats.t(n-1).ppf(1 - alpha/2)\n",
    "left = mean_hat - t_crit * np.sqrt(var_hat/n)\n",
    "right = mean_hat + t_crit * np.sqrt(var_hat/n)\n",
    "\n",
    "print(\"Student's quantile:\", round(stats.t(n - 1).ppf(0.975), 4))\n",
    "print(\"Confidence interval [{:.4}; {:.4}] of width {:.3}\".format(left, right, right - left))\n",
    "# {:.4} - number's precision till the third digit afther the floating point"
   ]
  },
  {
   "cell_type": "markdown",
   "metadata": {},
   "source": [
    "For the case where the original distribution is not normal, the central limit theorem can be used."
   ]
  },
  {
   "cell_type": "code",
   "execution_count": 19,
   "metadata": {},
   "outputs": [
    {
     "name": "stdout",
     "output_type": "stream",
     "text": [
      "Quantile for the standard normal distribution 1.96\n",
      "Confidence interval [5.117; 5.745] of width 0.628\n"
     ]
    }
   ],
   "source": [
    "# Asymptotic Confidence Interval\n",
    "# t(n) => N(0,1) given n -> infinity\n",
    "\n",
    "z_crit = stats.norm.ppf(1 - alpha/2)\n",
    "left = mean_hat - z_crit * np.sqrt(var_hat/n)\n",
    "right = mean_hat + z_crit * np.sqrt(var_hat/n)\n",
    "\n",
    "print('Quantile for the standard normal distribution', round(stats.norm().ppf(0.975), 4))\n",
    "print(\"Confidence interval [{:.4}; {:.4}] of width {:.3}\".format(left, right, right - left))"
   ]
  },
  {
   "cell_type": "markdown",
   "metadata": {},
   "source": [
    "Fast alternative:"
   ]
  },
  {
   "cell_type": "code",
   "execution_count": 20,
   "metadata": {},
   "outputs": [
    {
     "data": {
      "text/plain": [
       "(5.117082820375691, 5.745481282188411)"
      ]
     },
     "execution_count": 20,
     "metadata": {},
     "output_type": "execute_result"
    }
   ],
   "source": [
    "# Built-in way to plot asymptotic 95% confidence interval\n",
    "mu_hat = x.mean()\n",
    "sd_hat = np.sqrt(x.var()/n)\n",
    "stats.norm.interval(0.95, mu_hat, sd_hat)"
   ]
  },
  {
   "cell_type": "markdown",
   "metadata": {},
   "source": [
    "We'll use the function below to plot a graph to look at our confidence interval. It's not required to understand the code in this function. "
   ]
  },
  {
   "cell_type": "code",
   "execution_count": 21,
   "metadata": {},
   "outputs": [],
   "source": [
    "def norm_conf_int(alpha, mean_hat, std_hat, margin=1):\n",
    "    plt.figure(figsize=(10,5))\n",
    "    xs = np.linspace(mean_hat - margin, mean_hat + margin)\n",
    "    pdf = stats.norm(mean_hat, std_hat).pdf(xs)\n",
    "\n",
    "    plt.plot(xs, pdf)\n",
    "    plt.ylabel('$f(x)$', fontsize=18)\n",
    "    plt.xlabel('$x$', fontsize=18)\n",
    "\n",
    "    left, right = stats.norm.interval(1 - alpha, loc=mean_hat, scale=std_hat)\n",
    "\n",
    "    for i in [left, right]: \n",
    "        y_max = plt.ylim()[1]\n",
    "        plt.axvline(i, color=\"blue\", linestyle='dashed', lw=2)\n",
    "        if i == left:\n",
    "            xq = np.linspace(mean_hat - margin, left)\n",
    "            text_margin = -0.2\n",
    "        else:\n",
    "            xq = np.linspace(right, mean_hat + margin)\n",
    "            text_margin = 0.05\n",
    "        plt.text(i + text_margin, 0.8*y_max, round(i, 2), color=\"blue\", fontsize=14)\n",
    "        yq = stats.norm(mean_hat, std_hat).pdf(xq)\n",
    "        plt.fill_between(xq, 0, yq, color='blue', alpha=0.3)\n",
    "\n",
    "    return left, right"
   ]
  },
  {
   "cell_type": "code",
   "execution_count": 22,
   "metadata": {
    "scrolled": false
   },
   "outputs": [
    {
     "data": {
      "text/plain": [
       "(5.117082820375691, 5.745481282188411)"
      ]
     },
     "execution_count": 22,
     "metadata": {},
     "output_type": "execute_result"
    },
    {
     "data": {
      "image/png": "[encoded data removed]",
      "text/plain": [
       "<Figure size 720x360 with 1 Axes>"
      ]
     },
     "metadata": {
      "needs_background": "light"
     },
     "output_type": "display_data"
    }
   ],
   "source": [
    "alpha = 0.05\n",
    "mu_hat = x.mean()\n",
    "sd_hat = np.sqrt(x.var()/n)\n",
    "\n",
    "norm_conf_int(alpha, mu_hat, sd_hat)"
   ]
  },
  {
   "cell_type": "markdown",
   "metadata": {},
   "source": [
    "A 95% confidence interval is a range of values that you can be 95% certain contains the true mean of the population. This is not the same as a range that contains 95% of the values."
   ]
  },
  {
   "cell_type": "markdown",
   "metadata": {},
   "source": [
    "Let's divide our observations into two groups: Angels and Demons. Angels have `d1fraud == 0`, Demons have` d1fraud > 0`.\n",
    "\n",
    "__c)__ Plot a histogram of grades for the first control work for Angels and Demons. "
   ]
  },
  {
   "cell_type": "code",
   "execution_count": 52,
   "metadata": {},
   "outputs": [
    {
     "data": {
      "image/png": "[encoded data removed]",
      "text/plain": [
       "<Figure size 576x360 with 1 Axes>"
      ]
     },
     "metadata": {
      "needs_background": "light"
     },
     "output_type": "display_data"
    }
   ],
   "source": [
    "plt.figure(figsize=(8, 5))\n",
    "data[data.d1fraud > 0]['k1'].hist(alpha=0.4, bins=20, density=True, label=\"Demons\") # alpha is for the transperancy\n",
    "data[data.d1fraud == 0]['k1'].hist(alpha=0.4, bins=20, density=True, label=\"Angels\")\n",
    "plt.legend();"
   ]
  },
  {
   "cell_type": "code",
   "execution_count": 53,
   "metadata": {},
   "outputs": [
    {
     "data": {
      "image/png": "[encoded data removed]",
      "text/plain": [
       "<Figure size 432x288 with 1 Axes>"
      ]
     },
     "metadata": {
      "needs_background": "light"
     },
     "output_type": "display_data"
    }
   ],
   "source": [
    "# seaborn\n",
    "sns.distplot(data[data.d1fraud > 0]['k1'], label='Demons')\n",
    "sns.distplot(data[data.d1fraud == 0]['k1'], label='Angels')\n",
    "plt.legend()\n",
    "plt.show()"
   ]
  },
  {
   "cell_type": "markdown",
   "metadata": {},
   "source": [
    "__d)__ Plot the approximate $95\\% $ confidence interval for the difference between the expected result for the first control work for Angels and Demons. The assumption is the variances are not equall.\n",
    "\n",
    "$$\n",
    "\\left[\\bar x - \\bar y - z_{crit} \\sqrt{\\frac{\\hat\\sigma_x^2}{n_x} + \\frac{\\hat\\sigma_y^2}{n_y}} ; \\bar x - \\bar y + z_{crit} \\sqrt{\\frac{\\hat\\sigma_x^2}{n_x} + \\frac{\\hat\\sigma_y^2}{n_y}} \\right]\n",
    "$$"
   ]
  },
  {
   "cell_type": "code",
   "execution_count": 25,
   "metadata": {},
   "outputs": [
    {
     "data": {
      "text/plain": [
       "(5.9, 5.76)"
      ]
     },
     "execution_count": 25,
     "metadata": {},
     "output_type": "execute_result"
    }
   ],
   "source": [
    "x = data[data.d1fraud > 0].k1\n",
    "y = data[data.d1fraud == 0].k1\n",
    "\n",
    "round(x.mean(), 2), round(y.mean(), 2)"
   ]
  },
  {
   "cell_type": "code",
   "execution_count": 26,
   "metadata": {},
   "outputs": [
    {
     "data": {
      "text/plain": [
       "(-0.5328339053849281, 0.8087678503390611)"
      ]
     },
     "execution_count": 26,
     "metadata": {},
     "output_type": "execute_result"
    },
    {
     "data": {
      "image/png": "[encoded data removed]",
      "text/plain": [
       "<Figure size 720x360 with 1 Axes>"
      ]
     },
     "metadata": {
      "needs_background": "light"
     },
     "output_type": "display_data"
    }
   ],
   "source": [
    "alpha = 0.05\n",
    "\n",
    "diff = x.mean() - y.mean()\n",
    "diff_sd = np.sqrt(x.var()/x.size + y.var()/y.size)\n",
    "\n",
    "# asymptotic interval for the difference between the means of two independent samples\n",
    "norm_conf_int(alpha, diff, diff_sd)"
   ]
  },
  {
   "cell_type": "markdown",
   "metadata": {},
   "source": [
    "### Hypothesis testing\n",
    "<ol>\n",
    "<li>What’s the default statement (H0)?</li>\n",
    "<li>What’s the alternative statement (H1)?</li>\n",
    "<li>What have we learned that’s interesting? Sample statistic vs population</li>\n",
    "</ol>\n",
    "\n",
    "#### Hypothesis formulation\n",
    "H0: there is no statistically significant difference in the average grades for control work 1 (k1) between Angels and Demons. <p>\n",
    "H1: there is a significant difference in the average grades between Angels and Demons.\n",
    "    \n",
    "If **$H_0$ is rejected**, then there is a difference between the two groups."
   ]
  },
  {
   "cell_type": "code",
   "execution_count": 57,
   "metadata": {},
   "outputs": [
    {
     "data": {
      "text/plain": [
       "0.40311559813836634"
      ]
     },
     "execution_count": 57,
     "metadata": {},
     "output_type": "execute_result"
    }
   ],
   "source": [
    "# H_0 : mean_angels = mean_demons is the same thing as  mean_angels - mean_demons  = 0. \n",
    "# H_A : mean_angels != mean_demons\n",
    "\n",
    "z_obs = diff/diff_sd\n",
    "z_obs # observed value of Z for this sample"
   ]
  },
  {
   "cell_type": "code",
   "execution_count": 56,
   "metadata": {},
   "outputs": [
    {
     "data": {
      "text/plain": [
       "1.959963984540054"
      ]
     },
     "execution_count": 56,
     "metadata": {},
     "output_type": "execute_result"
    }
   ],
   "source": [
    "alpha = 0.05 \n",
    "z_crit = stats.norm.ppf(1 - alpha/2)\n",
    "z_crit  # critical value \n",
    "# if -z_crit < z_obs <  z_crit => hypothesis is not rejected"
   ]
  },
  {
   "cell_type": "markdown",
   "metadata": {},
   "source": [
    "0.4 is in [-1.96, 1.96] -> we do not reject the $H_0$ hypothesis. Hence, the average grades among Demones and Angels are not different with a confidence of $95\\%$."
   ]
  },
  {
   "cell_type": "markdown",
   "metadata": {},
   "source": [
    "Let us assume that the mathematical expectation of the grade depends on the level of preparation, and the variance of the result depends on the degree of nervousness. \n",
    "\n",
    "__е)__ Check the hypothesis about the same nervousness of Angels and Demons at the $5\\%$ significance level."
   ]
  },
  {
   "cell_type": "markdown",
   "metadata": {},
   "source": [
    "The difference between the **t-test** (Student's test) and **F-test** is that t-test is used to check the hypothesis whether the given mean is significantly different from the sample mean or not. On the other hand, an F-test is used to compare the two standard deviations of two samples and check the variability."
   ]
  },
  {
   "cell_type": "markdown",
   "metadata": {},
   "source": [
    "#### Hypothesis formulation\n",
    "H0: there is no difference in the variance (the degree of nervousness) between Angels and Demons. <p>\n",
    "H1: there is a significant difference in the variance (the degree of nervousness) between Angels and Demons.\n",
    "    \n",
    "If **$H_0$ is rejected**, then there is a difference between the two groups."
   ]
  },
  {
   "cell_type": "code",
   "execution_count": 27,
   "metadata": {},
   "outputs": [
    {
     "data": {
      "text/plain": [
       "0.8546097465268332"
      ]
     },
     "execution_count": 27,
     "metadata": {},
     "output_type": "execute_result"
    }
   ],
   "source": [
    "F_obs = x.var()/y.var()\n",
    "n, m = x.size, y.size\n",
    "F_obs"
   ]
  },
  {
   "cell_type": "code",
   "execution_count": 28,
   "metadata": {},
   "outputs": [
    {
     "data": {
      "text/plain": [
       "(0.73, 1.39)"
      ]
     },
     "execution_count": 28,
     "metadata": {},
     "output_type": "execute_result"
    }
   ],
   "source": [
    "alpha = 0.05\n",
    "round(stats.f.ppf(alpha/2, n - 1, m - 1), 2), round(stats.f.ppf(1 - alpha/2, n - 1, m - 1), 2)\n",
    "# The hypothesis about equal variances is not rejected"
   ]
  },
  {
   "cell_type": "markdown",
   "metadata": {},
   "source": [
    "0.8 is in (0.73, 1.39) => $H_0$ is not rejected, there is no significant difference in the degree of nervousness between Angels and Demons. "
   ]
  },
  {
   "cell_type": "markdown",
   "metadata": {},
   "source": [
    "__f)__ Draw a correlation matrix for all the tasks of the first checklist for all observations, separately for Angels and Demons."
   ]
  },
  {
   "cell_type": "code",
   "execution_count": 62,
   "metadata": {},
   "outputs": [
    {
     "data": {
      "image/png": "[encoded data removed]",
      "text/plain": [
       "<Figure size 1152x432 with 4 Axes>"
      ]
     },
     "metadata": {
      "needs_background": "light"
     },
     "output_type": "display_data"
    }
   ],
   "source": [
    "tasks = ['k1a', 'k1b', 'k1c', 'k1d', 'k1e', 'k1f']\n",
    "\n",
    "corr_angels = data[data.d1fraud == 0][tasks].fillna(0).corr()\n",
    "corr_demons = data[data.d1fraud > 0][tasks].fillna(0).corr()\n",
    "\n",
    "fig, axes = plt.subplots(1, 2, figsize=(16, 6))\n",
    "sns.heatmap(corr_angels, cmap=\"YlGnBu\", annot=True, ax=axes[0])\n",
    "sns.heatmap(corr_demons , cmap=\"gist_heat_r\", annot=True, ax=axes[1])\n",
    "axes[0].set_title(\"Correlation matrix for Angels\")\n",
    "axes[1].set_title(\"Correlations matrix for Demons\");"
   ]
  },
  {
   "cell_type": "markdown",
   "metadata": {},
   "source": [
    "Making a statistical decision always involves uncertainties, so the risks of making these errors are unavoidable in hypothesis testing.\n",
    "\n",
    "<img src='errors.png' width=500>\n",
    "\n",
    "The probability of making a Type I error is the significance level, or alpha ($\\alpha$), while the probability of making a Type II error is beta ($\\beta$). These risks can be minimized through careful planning in your study design.\n",
    "\n",
    "* **Type I error**, also known as a “false positive”: the error of rejecting a null\n",
    "hypothesis when it is actually true. In other words, this is the error of accepting an\n",
    "alternative hypothesis (the real hypothesis of interest) when the results can be\n",
    "attributed to chance.\n",
    "<br>\n",
    "* **Type II error**, also known as a \"false negative\": the error of not rejecting a null\n",
    "hypothesis when the alternative hypothesis is the true state of nature. In other\n",
    "words, this is the error of failing to accept an alternative hypothesis when you\n",
    "don't have adequate power.\n",
    "\n",
    "Example: Type I vs Type II error\n",
    "\n",
    "You decide to get tested for COVID-19 based on mild symptoms. There are two errors that could potentially occur: <br>\n",
    "1) Type I error (false positive): the test result says you have coronavirus, but you actually don’t. <br>\n",
    "2) Type II error (false negative): the test result says you don’t have coronavirus, but you actually do. <br>\n",
    "\n",
    "You can aim to minimize the risk of these errors by selecting an optimal significance level and ensuring high power. However, there’s a trade-off between the two errors, so a fine balance is necessary."
   ]
  },
  {
   "cell_type": "markdown",
   "metadata": {},
   "source": [
    "## Strongly recommended to recap:\n",
    "\n",
    "1) [A step-by-step guide to statistical analysis](https://www.scribbr.com/category/statistics/)\n",
    "\n",
    "2) [An introduction to t-tests](https://www.scribbr.com/statistics/t-test/)\n",
    "\n",
    "3) [The p-value explained](https://www.scribbr.com/statistics/p-value/)\n",
    "\n",
    "4) [Distributions of one variable](http://work.thaslwanter.at/Stats/html/statsDistributions.html)\n",
    "\n",
    "5) https://medium.com/@RenatoFillinich/ab-testing-with-python-e5964dd66143"
   ]
  },
  {
   "cell_type": "markdown",
   "metadata": {},
   "source": [
    "## Example of A/B test"
   ]
  },
  {
   "cell_type": "markdown",
   "metadata": {},
   "source": [
    "Let’s imagine you work on the product team at a medium-sized online e-commerce business. The UX designer worked really hard on a new version of the product page, with the hope that it will lead to a higher conversion rate. The product manager (PM) told you that the current conversion rate is about $13\\%$ on average throughout the year, and that the team would be happy with an increase of $2\\%$, meaning that the new design will be considered a success if it raises the conversion rate to $15\\%$."
   ]
  },
  {
   "cell_type": "markdown",
   "metadata": {},
   "source": [
    "First things first, we want to make sure we formulate a hypothesis at the start of our project. This will make sure our interpretation of the results is correct as well as rigorous.\n",
    "Given we don’t know if the new design will perform better or worse (or the same?) as our current design, we’ll choose a two-tailed test.\n",
    "\n",
    "$H_0$: $p = p_0$, where p and pₒ stand for the conversion rate of the new and old design.\n",
    "    \n",
    "The $\\alpha$ value is a threshold we set, by which we say “if the probability of observing a result as \n",
    "extreme or more (p-value) is lower than $\\alpha$, then we reject the Null hypothesis”. Since our $\\alpha$=0.05 \n",
    "(indicating $5\\%$ probability), our confidence ($1 — \\alpha$) is $95\\%$. \n",
    "\n",
    "We want to be $95\\%$ confident it is statistically different from the conversion rate of our old design, before we decide to reject the Null hypothesis Hₒ.\n",
    "\n",
    "For our test we’ll need two groups:\n",
    "\n",
    "**A control group** - They'll be shown the old design\n",
    "\n",
    "**A treatment (or experimental) group** - They'll be shown the new design\n",
    "\n",
    "This will be our **independent variable**. The reason we have two groups even though we know the baseline conversion rate is that we want to control for other variables that could have an effect on our results, such as seasonality: by having a control group we can directly compare their results to the treatment group, because the only systematic difference between the groups is the design of the product page, and we can therefore attribute any differences in results to the designs.\n",
    "\n",
    "For our **dependent variable** (i.e. what we are trying to measure), we are interested in capturing the conversion rate. A way we can code this is by each user session with a binary variable:\n",
    "\n",
    "* $0$ - The user did not buy the product during this user session\n",
    "\n",
    "* $1$ - The user bought the product during this user session\n",
    "\n",
    "**Choosing a sample size.**\n",
    "\n",
    "The number of people (or user sessions) we decide to capture in each group will have an effect on the precision of our estimated conversion rates: the larger the sample size, the more precise our estimates (i.e. the smaller our confidence intervals), the higher the chance to detect a difference in the two groups.On the other hand, the larger our sample gets, the more expensive (and impractical) our study becomes.\n",
    "\n",
    "So how many people should we have in each group?\n",
    "\n",
    "The sample size we need is estimated through something called Power analysis, and it depends on a few factors:\n",
    "\n",
    "* Power of the test ($1 — \\beta$) — This represents the probability of finding a statistical difference between the groups in our test when a difference is actually present. This is usually set at $0.8$ by convention (here’s more info on statistical power, if you are curious).\n",
    "\n",
    "* Alpha value ($\\alpha$) — The critical value we set earlier to $0.05$.\n",
    "\n",
    "* Effect size — How big of a difference we expect there to be between the conversion rates.\n",
    "\n",
    "Since our team would be happy with a difference of $2\\%$, we can use $13\\%$ and $15\\%$ to calculate the effect size we expect."
   ]
  },
  {
   "cell_type": "code",
   "execution_count": 76,
   "metadata": {},
   "outputs": [
    {
     "name": "stdout",
     "output_type": "stream",
     "text": [
      "4720\n"
     ]
    }
   ],
   "source": [
    "import scipy.stats as stats\n",
    "import statsmodels.stats.api as sms\n",
    "from math import ceil\n",
    "\n",
    "effect_size = sms.proportion_effectsize(0.13, 0.15)    # Calculating effect size based on our expected rates\n",
    "\n",
    "# Calculating sample size needed\n",
    "required_n = sms.NormalIndPower().solve_power(\n",
    "    effect_size, \n",
    "    power=0.8, \n",
    "    alpha=0.05, \n",
    "    ratio=1\n",
    "    )\n",
    "\n",
    "required_n = ceil(required_n) # Rounding up to next whole number                          \n",
    "print(required_n)"
   ]
  },
  {
   "cell_type": "code",
   "execution_count": 66,
   "metadata": {},
   "outputs": [
    {
     "data": {
      "text/html": [
       "<div>\n",
       "<style scoped>\n",
       "    .dataframe tbody tr th:only-of-type {\n",
       "        vertical-align: middle;\n",
       "    }\n",
       "\n",
       "    .dataframe tbody tr th {\n",
       "        vertical-align: top;\n",
       "    }\n",
       "\n",
       "    .dataframe thead th {\n",
       "        text-align: right;\n",
       "    }\n",
       "</style>\n",
       "<table border=\"1\" class=\"dataframe\">\n",
       "  <thead>\n",
       "    <tr style=\"text-align: right;\">\n",
       "      <th></th>\n",
       "      <th>user_id</th>\n",
       "      <th>timestamp</th>\n",
       "      <th>group</th>\n",
       "      <th>landing_page</th>\n",
       "      <th>converted</th>\n",
       "    </tr>\n",
       "  </thead>\n",
       "  <tbody>\n",
       "    <tr>\n",
       "      <th>0</th>\n",
       "      <td>851104</td>\n",
       "      <td>2017-01-21 22:11:48.556739</td>\n",
       "      <td>control</td>\n",
       "      <td>old_page</td>\n",
       "      <td>0</td>\n",
       "    </tr>\n",
       "    <tr>\n",
       "      <th>1</th>\n",
       "      <td>804228</td>\n",
       "      <td>2017-01-12 08:01:45.159739</td>\n",
       "      <td>control</td>\n",
       "      <td>old_page</td>\n",
       "      <td>0</td>\n",
       "    </tr>\n",
       "    <tr>\n",
       "      <th>2</th>\n",
       "      <td>661590</td>\n",
       "      <td>2017-01-11 16:55:06.154213</td>\n",
       "      <td>treatment</td>\n",
       "      <td>new_page</td>\n",
       "      <td>0</td>\n",
       "    </tr>\n",
       "    <tr>\n",
       "      <th>3</th>\n",
       "      <td>853541</td>\n",
       "      <td>2017-01-08 18:28:03.143765</td>\n",
       "      <td>treatment</td>\n",
       "      <td>new_page</td>\n",
       "      <td>0</td>\n",
       "    </tr>\n",
       "    <tr>\n",
       "      <th>4</th>\n",
       "      <td>864975</td>\n",
       "      <td>2017-01-21 01:52:26.210827</td>\n",
       "      <td>control</td>\n",
       "      <td>old_page</td>\n",
       "      <td>1</td>\n",
       "    </tr>\n",
       "  </tbody>\n",
       "</table>\n",
       "</div>"
      ],
      "text/plain": [
       "   user_id                   timestamp      group landing_page  converted\n",
       "0   851104  2017-01-21 22:11:48.556739    control     old_page          0\n",
       "1   804228  2017-01-12 08:01:45.159739    control     old_page          0\n",
       "2   661590  2017-01-11 16:55:06.154213  treatment     new_page          0\n",
       "3   853541  2017-01-08 18:28:03.143765  treatment     new_page          0\n",
       "4   864975  2017-01-21 01:52:26.210827    control     old_page          1"
      ]
     },
     "execution_count": 66,
     "metadata": {},
     "output_type": "execute_result"
    }
   ],
   "source": [
    "df = pd.read_csv('ab_data.csv') # https://www.kaggle.com/zhangluyuan/ab-testing?select=ab_data.csv\n",
    "df.head()"
   ]
  },
  {
   "cell_type": "markdown",
   "metadata": {},
   "source": [
    "* user_id - The user ID of each session <br>\n",
    "* timestamp - Timestamp for the session <br>\n",
    "* group - Which group the user was assigned to for that session {control, treatment} <br>\n",
    "* landing_page - Which design each user saw on that session {old_page, new_page} <br>\n",
    "* converted - Whether the session ended in a conversion or not (binary, 0=not converted, 1=converted) <br>"
   ]
  },
  {
   "cell_type": "code",
   "execution_count": 67,
   "metadata": {},
   "outputs": [
    {
     "data": {
      "text/html": [
       "<div>\n",
       "<style scoped>\n",
       "    .dataframe tbody tr th:only-of-type {\n",
       "        vertical-align: middle;\n",
       "    }\n",
       "\n",
       "    .dataframe tbody tr th {\n",
       "        vertical-align: top;\n",
       "    }\n",
       "\n",
       "    .dataframe thead th {\n",
       "        text-align: right;\n",
       "    }\n",
       "</style>\n",
       "<table border=\"1\" class=\"dataframe\">\n",
       "  <thead>\n",
       "    <tr style=\"text-align: right;\">\n",
       "      <th>landing_page</th>\n",
       "      <th>new_page</th>\n",
       "      <th>old_page</th>\n",
       "    </tr>\n",
       "    <tr>\n",
       "      <th>group</th>\n",
       "      <th></th>\n",
       "      <th></th>\n",
       "    </tr>\n",
       "  </thead>\n",
       "  <tbody>\n",
       "    <tr>\n",
       "      <th>control</th>\n",
       "      <td>1928</td>\n",
       "      <td>145274</td>\n",
       "    </tr>\n",
       "    <tr>\n",
       "      <th>treatment</th>\n",
       "      <td>145311</td>\n",
       "      <td>1965</td>\n",
       "    </tr>\n",
       "  </tbody>\n",
       "</table>\n",
       "</div>"
      ],
      "text/plain": [
       "landing_page  new_page  old_page\n",
       "group                           \n",
       "control           1928    145274\n",
       "treatment       145311      1965"
      ]
     },
     "execution_count": 67,
     "metadata": {},
     "output_type": "execute_result"
    }
   ],
   "source": [
    "pd.crosstab(df['group'], df['landing_page'])"
   ]
  },
  {
   "cell_type": "markdown",
   "metadata": {},
   "source": [
    "Before we go ahead and sample the data to get our subset, let’s make sure there are no users that have been sampled multiple times."
   ]
  },
  {
   "cell_type": "code",
   "execution_count": 68,
   "metadata": {},
   "outputs": [
    {
     "name": "stdout",
     "output_type": "stream",
     "text": [
      "There are 3894 users that appear multiple times in the dataset\n"
     ]
    }
   ],
   "source": [
    "session_counts = df['user_id'].value_counts(ascending=False)\n",
    "multi_users = session_counts[session_counts > 1].count()\n",
    "print(f'There are {multi_users} users that appear multiple times in the dataset')"
   ]
  },
  {
   "cell_type": "markdown",
   "metadata": {},
   "source": [
    "Since the number is pretty low, we’ll go ahead and remove them from the DataFrame to avoid sampling the same users twice."
   ]
  },
  {
   "cell_type": "code",
   "execution_count": 69,
   "metadata": {},
   "outputs": [
    {
     "name": "stdout",
     "output_type": "stream",
     "text": [
      "The updated dataset now has 286690 entries\n"
     ]
    }
   ],
   "source": [
    "users_to_drop = session_counts[session_counts > 1].index\n",
    "\n",
    "df = df[~df['user_id'].isin(users_to_drop)]\n",
    "print(f'The updated dataset now has {df.shape[0]} entries')"
   ]
  },
  {
   "cell_type": "markdown",
   "metadata": {},
   "source": [
    "Now that our DataFrame is nice and clean, we can proceed and sample $n=4720$ entries for each of the groups. We can use pandas' DataFrame.sample() method to do this, which will perform Simple Random Sampling for us. I’ve set random_state $ =42$ so that the results are reproducible if you feel like following on your own Notebook."
   ]
  },
  {
   "cell_type": "code",
   "execution_count": 72,
   "metadata": {},
   "outputs": [
    {
     "data": {
      "text/html": [
       "<div>\n",
       "<style scoped>\n",
       "    .dataframe tbody tr th:only-of-type {\n",
       "        vertical-align: middle;\n",
       "    }\n",
       "\n",
       "    .dataframe tbody tr th {\n",
       "        vertical-align: top;\n",
       "    }\n",
       "\n",
       "    .dataframe thead th {\n",
       "        text-align: right;\n",
       "    }\n",
       "</style>\n",
       "<table border=\"1\" class=\"dataframe\">\n",
       "  <thead>\n",
       "    <tr style=\"text-align: right;\">\n",
       "      <th></th>\n",
       "      <th>user_id</th>\n",
       "      <th>timestamp</th>\n",
       "      <th>group</th>\n",
       "      <th>landing_page</th>\n",
       "      <th>converted</th>\n",
       "    </tr>\n",
       "  </thead>\n",
       "  <tbody>\n",
       "    <tr>\n",
       "      <th>0</th>\n",
       "      <td>763854</td>\n",
       "      <td>2017-01-21 03:43:17.188315</td>\n",
       "      <td>control</td>\n",
       "      <td>old_page</td>\n",
       "      <td>0</td>\n",
       "    </tr>\n",
       "    <tr>\n",
       "      <th>1</th>\n",
       "      <td>690555</td>\n",
       "      <td>2017-01-18 06:38:13.079449</td>\n",
       "      <td>control</td>\n",
       "      <td>old_page</td>\n",
       "      <td>0</td>\n",
       "    </tr>\n",
       "    <tr>\n",
       "      <th>2</th>\n",
       "      <td>861520</td>\n",
       "      <td>2017-01-06 21:13:40.044766</td>\n",
       "      <td>control</td>\n",
       "      <td>old_page</td>\n",
       "      <td>0</td>\n",
       "    </tr>\n",
       "    <tr>\n",
       "      <th>3</th>\n",
       "      <td>630778</td>\n",
       "      <td>2017-01-05 16:42:36.995204</td>\n",
       "      <td>control</td>\n",
       "      <td>old_page</td>\n",
       "      <td>0</td>\n",
       "    </tr>\n",
       "    <tr>\n",
       "      <th>4</th>\n",
       "      <td>656634</td>\n",
       "      <td>2017-01-04 15:31:21.676130</td>\n",
       "      <td>control</td>\n",
       "      <td>old_page</td>\n",
       "      <td>0</td>\n",
       "    </tr>\n",
       "    <tr>\n",
       "      <th>...</th>\n",
       "      <td>...</td>\n",
       "      <td>...</td>\n",
       "      <td>...</td>\n",
       "      <td>...</td>\n",
       "      <td>...</td>\n",
       "    </tr>\n",
       "    <tr>\n",
       "      <th>9435</th>\n",
       "      <td>908512</td>\n",
       "      <td>2017-01-14 22:02:29.922674</td>\n",
       "      <td>treatment</td>\n",
       "      <td>new_page</td>\n",
       "      <td>0</td>\n",
       "    </tr>\n",
       "    <tr>\n",
       "      <th>9436</th>\n",
       "      <td>873211</td>\n",
       "      <td>2017-01-05 00:57:16.167151</td>\n",
       "      <td>treatment</td>\n",
       "      <td>new_page</td>\n",
       "      <td>0</td>\n",
       "    </tr>\n",
       "    <tr>\n",
       "      <th>9437</th>\n",
       "      <td>631276</td>\n",
       "      <td>2017-01-20 18:56:58.167809</td>\n",
       "      <td>treatment</td>\n",
       "      <td>new_page</td>\n",
       "      <td>0</td>\n",
       "    </tr>\n",
       "    <tr>\n",
       "      <th>9438</th>\n",
       "      <td>662301</td>\n",
       "      <td>2017-01-03 08:10:57.768806</td>\n",
       "      <td>treatment</td>\n",
       "      <td>new_page</td>\n",
       "      <td>0</td>\n",
       "    </tr>\n",
       "    <tr>\n",
       "      <th>9439</th>\n",
       "      <td>944623</td>\n",
       "      <td>2017-01-19 10:56:01.648653</td>\n",
       "      <td>treatment</td>\n",
       "      <td>new_page</td>\n",
       "      <td>1</td>\n",
       "    </tr>\n",
       "  </tbody>\n",
       "</table>\n",
       "<p>9440 rows × 5 columns</p>\n",
       "</div>"
      ],
      "text/plain": [
       "      user_id                   timestamp      group landing_page  converted\n",
       "0      763854  2017-01-21 03:43:17.188315    control     old_page          0\n",
       "1      690555  2017-01-18 06:38:13.079449    control     old_page          0\n",
       "2      861520  2017-01-06 21:13:40.044766    control     old_page          0\n",
       "3      630778  2017-01-05 16:42:36.995204    control     old_page          0\n",
       "4      656634  2017-01-04 15:31:21.676130    control     old_page          0\n",
       "...       ...                         ...        ...          ...        ...\n",
       "9435   908512  2017-01-14 22:02:29.922674  treatment     new_page          0\n",
       "9436   873211  2017-01-05 00:57:16.167151  treatment     new_page          0\n",
       "9437   631276  2017-01-20 18:56:58.167809  treatment     new_page          0\n",
       "9438   662301  2017-01-03 08:10:57.768806  treatment     new_page          0\n",
       "9439   944623  2017-01-19 10:56:01.648653  treatment     new_page          1\n",
       "\n",
       "[9440 rows x 5 columns]"
      ]
     },
     "execution_count": 72,
     "metadata": {},
     "output_type": "execute_result"
    }
   ],
   "source": [
    "required_n = 4720\n",
    "\n",
    "control_sample = df[df['group'] == 'control'].sample(n=required_n, random_state=22)\n",
    "treatment_sample = df[df['group'] == 'treatment'].sample(n=required_n, random_state=22)\n",
    "\n",
    "ab_test = pd.concat([control_sample, treatment_sample], axis=0)\n",
    "ab_test.reset_index(drop=True, inplace=True)\n",
    "ab_test"
   ]
  },
  {
   "cell_type": "code",
   "execution_count": 77,
   "metadata": {},
   "outputs": [
    {
     "data": {
      "text/plain": [
       "treatment    4720\n",
       "control      4720\n",
       "Name: group, dtype: int64"
      ]
     },
     "execution_count": 77,
     "metadata": {},
     "output_type": "execute_result"
    }
   ],
   "source": [
    "ab_test['group'].value_counts()"
   ]
  },
  {
   "cell_type": "code",
   "execution_count": 78,
   "metadata": {},
   "outputs": [
    {
     "data": {
      "text/html": [
       "<style  type=\"text/css\" >\n",
       "</style><table id=\"T_0bf9bdf8_9db4_11eb_a73b_88e9fe88bf45\" ><thead>    <tr>        <th class=\"blank level0\" ></th>        <th class=\"col_heading level0 col0\" >conversion_rate</th>        <th class=\"col_heading level0 col1\" >std_deviation</th>        <th class=\"col_heading level0 col2\" >std_error</th>    </tr>    <tr>        <th class=\"index_name level0\" >group</th>        <th class=\"blank\" ></th>        <th class=\"blank\" ></th>        <th class=\"blank\" ></th>    </tr></thead><tbody>\n",
       "                <tr>\n",
       "                        <th id=\"T_0bf9bdf8_9db4_11eb_a73b_88e9fe88bf45level0_row0\" class=\"row_heading level0 row0\" >control</th>\n",
       "                        <td id=\"T_0bf9bdf8_9db4_11eb_a73b_88e9fe88bf45row0_col0\" class=\"data row0 col0\" >0.123</td>\n",
       "                        <td id=\"T_0bf9bdf8_9db4_11eb_a73b_88e9fe88bf45row0_col1\" class=\"data row0 col1\" >0.329</td>\n",
       "                        <td id=\"T_0bf9bdf8_9db4_11eb_a73b_88e9fe88bf45row0_col2\" class=\"data row0 col2\" >0.005</td>\n",
       "            </tr>\n",
       "            <tr>\n",
       "                        <th id=\"T_0bf9bdf8_9db4_11eb_a73b_88e9fe88bf45level0_row1\" class=\"row_heading level0 row1\" >treatment</th>\n",
       "                        <td id=\"T_0bf9bdf8_9db4_11eb_a73b_88e9fe88bf45row1_col0\" class=\"data row1 col0\" >0.126</td>\n",
       "                        <td id=\"T_0bf9bdf8_9db4_11eb_a73b_88e9fe88bf45row1_col1\" class=\"data row1 col1\" >0.331</td>\n",
       "                        <td id=\"T_0bf9bdf8_9db4_11eb_a73b_88e9fe88bf45row1_col2\" class=\"data row1 col2\" >0.005</td>\n",
       "            </tr>\n",
       "    </tbody></table>"
      ],
      "text/plain": [
       "<pandas.io.formats.style.Styler at 0x7fddc238d190>"
      ]
     },
     "execution_count": 78,
     "metadata": {},
     "output_type": "execute_result"
    }
   ],
   "source": [
    "conversion_rates = ab_test.groupby('group')['converted']\n",
    "\n",
    "std_p = lambda x: np.std(x, ddof=0)              # std. deviation of the proportion\n",
    "se_p = lambda x: stats.sem(x, ddof=0)            # std. error of the proportion (std / sqrt(n))\n",
    "\n",
    "conversion_rates = conversion_rates.agg([np.mean, std_p, se_p])\n",
    "conversion_rates.columns = ['conversion_rate', 'std_deviation', 'std_error']\n",
    "\n",
    "\n",
    "conversion_rates.style.format('{:.3f}')"
   ]
  },
  {
   "cell_type": "code",
   "execution_count": 79,
   "metadata": {},
   "outputs": [
    {
     "data": {
      "image/png": "[encoded data removed]",
      "text/plain": [
       "<Figure size 576x432 with 1 Axes>"
      ]
     },
     "metadata": {
      "needs_background": "light"
     },
     "output_type": "display_data"
    }
   ],
   "source": [
    "plt.figure(figsize=(8,6))\n",
    "\n",
    "sns.barplot(x=ab_test['group'], y=ab_test['converted'], ci=False)\n",
    "\n",
    "plt.ylim(0, 0.17)\n",
    "plt.title('Conversion rate by group', pad=20)\n",
    "plt.xlabel('Group', labelpad=15)\n",
    "plt.ylabel('Converted (proportion)', labelpad=15);"
   ]
  },
  {
   "cell_type": "markdown",
   "metadata": {},
   "source": [
    "So… the treatment group's value is higher. Is this difference statistically significant?"
   ]
  },
  {
   "cell_type": "code",
   "execution_count": 80,
   "metadata": {},
   "outputs": [
    {
     "name": "stdout",
     "output_type": "stream",
     "text": [
      "z statistic: -0.34\n",
      "p-value: 0.732\n",
      "ci 95% for control group: [0.114, 0.133]\n",
      "ci 95% for treatment group: [0.116, 0.135]\n"
     ]
    }
   ],
   "source": [
    "from statsmodels.stats.proportion import proportions_ztest, proportion_confint\n",
    "control_results = ab_test[ab_test['group'] == 'control']['converted']\n",
    "treatment_results = ab_test[ab_test['group'] == 'treatment']['converted']\n",
    "n_con = control_results.count()\n",
    "n_treat = treatment_results.count()\n",
    "successes = [control_results.sum(), treatment_results.sum()]\n",
    "nobs = [n_con, n_treat]\n",
    "\n",
    "z_stat, pval = proportions_ztest(successes, nobs=nobs)\n",
    "(lower_con, lower_treat), (upper_con, upper_treat) = proportion_confint(successes, nobs=nobs, alpha=0.05)\n",
    "\n",
    "print(f'z statistic: {z_stat:.2f}')\n",
    "print(f'p-value: {pval:.3f}')\n",
    "print(f'ci 95% for control group: [{lower_con:.3f}, {upper_con:.3f}]')\n",
    "print(f'ci 95% for treatment group: [{lower_treat:.3f}, {upper_treat:.3f}]')"
   ]
  },
  {
   "cell_type": "markdown",
   "metadata": {},
   "source": [
    "Since p-value $ =0.732$ is way above our $\\alpha=0.05$ threshold, we cannot reject the Null hypothesis $H_0$, which means that our new design did not perform significantly different than our old one :( <br>\n",
    "Moreover, if we look at the confidence interval for the treatment group ($[0.116, 0.135]$, or $11.6-13.5\\%$) we notice that: <br>\n",
    "* It includes our baseline value of $13\\%$ conversion rate. \n",
    "* It does not include our target value of $15\\%$ (the $2\\%$ uplift we were aiming for). "
   ]
  },
  {
   "cell_type": "code",
   "execution_count": null,
   "metadata": {},
   "outputs": [],
   "source": []
  }
 ],
 "metadata": {
  "kernelspec": {
   "display_name": "Python 3",
   "language": "python",
   "name": "python3"
  },
  "language_info": {
   "codemirror_mode": {
    "name": "ipython",
    "version": 3
   },
   "file_extension": ".py",
   "mimetype": "text/x-python",
   "name": "python",
   "nbconvert_exporter": "python",
   "pygments_lexer": "ipython3",
   "version": "3.8.5"
  }
 },
 "nbformat": 4,
 "nbformat_minor": 4
}
