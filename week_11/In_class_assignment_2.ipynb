{
 "cells": [
  {
   "cell_type": "markdown",
   "metadata": {},
   "source": [
    "# <center> In-class assignment 2 </center>"
   ]
  },
  {
   "cell_type": "markdown",
   "metadata": {},
   "source": [
    "**Task 1**. You need to analyze the students' performance in Exams. \n",
    "You can read the description here:\n",
    "https://www.kaggle.com/spscientist/students-performance-in-exams\n",
    "\n",
    "1.1 Read the data from your repository (```StudentsPerformance.csv```) using pandas library and save it as a DataFrame. <br>\n",
    "1.2 Check the descriptive statistics. What subject has the greatest mean score (math, reading, or writing)?<br>\n",
    "1.3 Check are there any missing values in a data set? In case if they persist, delete the rows with missing values.<br>\n",
    "1.4 Filter the data to display only the students with bachelor's degree and math scores above the median.<br>\n",
    "1.5. What are the ratios of females and males in this data set?<br>\n",
    "1.6 Check if all the races/ethnicities are presented in this data set uniformly. Hint: you need to calculate the number of students for each race/ethnicity and check is there any imbalance.<br>"
   ]
  },
  {
   "cell_type": "code",
   "execution_count": null,
   "metadata": {},
   "outputs": [],
   "source": [
    "# Your code here"
   ]
  },
  {
   "cell_type": "markdown",
   "metadata": {},
   "source": [
    "**Task 2**. You should visit http://books.toscrape.com/catalogue/page-1.html. <br>\n",
    "2.1. Write a function that parses and scraps one page and returns a list of dictionaries with the title and price of each book. <br>\n",
    "2.2. Download the first 100 books with a progress bar from tqdm. <br>\n",
    "2.3 Save it to DataFrame. <br>\n",
    "2.4. Calculate the average price of these books. <br>"
   ]
  },
  {
   "cell_type": "code",
   "execution_count": null,
   "metadata": {},
   "outputs": [],
   "source": []
  }
 ],
 "metadata": {
  "kernelspec": {
   "display_name": "Python 3",
   "language": "python",
   "name": "python3"
  },
  "language_info": {
   "codemirror_mode": {
    "name": "ipython",
    "version": 3
   },
   "file_extension": ".py",
   "mimetype": "text/x-python",
   "name": "python",
   "nbconvert_exporter": "python",
   "pygments_lexer": "ipython3",
   "version": "3.8.5"
  }
 },
 "nbformat": 4,
 "nbformat_minor": 4
}
