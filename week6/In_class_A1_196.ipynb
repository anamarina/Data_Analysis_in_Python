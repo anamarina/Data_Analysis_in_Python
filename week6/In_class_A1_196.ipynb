{
 "cells": [
  {
   "cell_type": "markdown",
   "metadata": {},
   "source": [
    "# <center> In-class Assignment 1 </center>"
   ]
  },
  {
   "cell_type": "markdown",
   "metadata": {},
   "source": [
    "**Task 1. Word game** \n",
    "\n",
    "You need to write a program for a word game. \n",
    "The first player think about a word and save it using input() function and only lowercase letters.\n",
    "\n",
    "The second player provides new words in the same format. In total, the user needs to make 15 moves (name 15 new words after the first word). Each new word must start with the same letter as the first word. If the word has already been called earlier (is duplicated) or the first letter of a new word is not the same as the first letter of the first word, the game ends with the phrase \"The rules of the game are violated.\""
   ]
  },
  {
   "cell_type": "code",
   "execution_count": null,
   "metadata": {},
   "outputs": [],
   "source": [
    "# The first player comes up with a word\n",
    "word = input('Name a word:')\n",
    "\n",
    "# Second player names other new words\n",
    "new_word = input('Next word starting from the same letter: ')\n",
    "# YOUR CODE HERE"
   ]
  },
  {
   "cell_type": "markdown",
   "metadata": {},
   "source": [
    "**Task 2. String preprocessing**.\n",
    "\n",
    "1. This is a downloaded paragraph from the main page of the United Nations website. Remove all symbols for new lines (\"\\n\"). Transform a list of all sentences into one text (= one string). \n",
    "\n",
    "2. Create a dictionary, where the keys are the words and the values are the numbers how many times each word occured in a given paragraph). What is the most frequent word in this paragraph?\n",
    "\n",
    "For instance: \n",
    "```python\n",
    ">>> your_dict['freedom']\n",
    "Out: 2\n",
    ">>>your_dict['human']\n",
    "Out: 4\n",
    "```"
   ]
  },
  {
   "cell_type": "code",
   "execution_count": 1,
   "metadata": {},
   "outputs": [],
   "source": [
    "paragraph = [\"What Are Human Rights? Human rights are rights inherent to all human \\n\", \n",
    "\"beings, regardless of race, sex, nationality, ethnicity, language, religion, or \\n\",\n",
    "\"any other status. Human rights include the right to life and liberty, freedom \\n\",\n",
    "\"from slavery and torture, freedom of opinion and expression, the right to work \\n\",\n",
    "\"and education, and many more.\", \"  Everyone is entitled to these rights, without \",\n",
    "\"discrimination. \\nInternational human rights law lays down the obligations of Governments to act in \\n\",\n",
    "\"certain ways or to refrain from certain acts, in order to promote and protect human \\n\",\n",
    "\"rights and fundamental freedoms of individuals or groups. \\n\",\n",
    "\"One of the great achievements of the United Nations is the creation of a comprehensive \\n\",\n",
    "\"body of human rights law — a universal and internationally protected code to which all \\n\",\n",
    "\"nations can subscribe and all people aspire. The United Nations has defined a broad range \\n\",\n",
    "\"of internationally accepted rights, including civil, cultural, economic, political and \\n\",\n",
    "\"social rights. It has also established mechanisms to promote and protect these rights \\n\",\n",
    "\"and to assist states in carrying out their responsibilities.\"]"
   ]
  },
  {
   "cell_type": "code",
   "execution_count": null,
   "metadata": {},
   "outputs": [],
   "source": [
    "# YOUR CODE HERE"
   ]
  },
  {
   "cell_type": "markdown",
   "metadata": {},
   "source": [
    "**Task 3. G7 Summit** \n",
    "\n",
    "You are on the organizing committee of the G7 summit. You need to check in all the participants of the summit in a hotel with double rooms, guided by the rule: ```participants can live in one room if they are delegates from the same country.``` <br>\n",
    "\n",
    "You have been given a dictionary with information on all participants. \n",
    "\n",
    "Write a function that returns ```True```, if it is possible to check in $X$ participants ($X$ is the number of participants) in $\\frac{X}{2}$ rooms without violating the rule and ```False``` otherwise.\n",
    "\n",
    "```Input:```"
   ]
  },
  {
   "cell_type": "code",
   "execution_count": 41,
   "metadata": {},
   "outputs": [],
   "source": [
    "participants = {\n",
    "    'John Smith' : {'sex': 'Male', 'country': 'The United Kingdom'},\n",
    "    'Michael Phillips' : {'sex': 'Male', 'country': 'The United Kingdom'},\n",
    "    'Miranda Muller' : {'sex': 'Female', 'country': 'Germany'},\n",
    "    'Anna Schmidt' : {'sex': 'Female', 'country': 'Germany'},\n",
    "    'Giovanni Rossi' : {'sex': 'Male', 'country': 'Italy'},\n",
    "    'Giulia Colombo' : {'sex': 'Female', 'country': 'Italy'},\n",
    "    'Bob Williams' : {'sex': 'Male', 'country': 'Canada'},\n",
    "    'Sarah Harper' : {'sex': 'Female', 'country': 'Canada'},\n",
    "    'John Brown' : {'sex': 'Male', 'country': 'Canada'},\n",
    "    'Maria Davis' : {'sex': 'Female', 'country': 'Canada'},\n",
    "    'Lucas Martin' : {'sex': 'Male', 'country': 'France'},\n",
    "    'Louis Bernard' : {'sex': 'Male', 'country': 'France'},\n",
    "    'Minato Takahashi' : {'sex': 'Male', 'country': 'Japan'},\n",
    "    'Ren Suzuki' : {'sex': 'Male', 'country': 'Japan'},\n",
    "    'Paul Miller' : {'sex': 'Male', 'country': 'USA'},\n",
    "    'Andrew Scott' : {'sex': 'Male', 'country': 'USA'}\n",
    "}"
   ]
  },
  {
   "cell_type": "markdown",
   "metadata": {},
   "source": [
    "```Output```: ```True``` (because there is even number of participants from each country). "
   ]
  },
  {
   "cell_type": "markdown",
   "metadata": {},
   "source": [
    "```Hint:``` Note that the values in a dictionary are also the dictionaries. If you want to access to the value of a particular delegate:\n",
    "\n",
    "```python\n",
    ">>> participants['Ren Suzuki']['country']\n",
    "Out: Japan\n",
    "```"
   ]
  },
  {
   "cell_type": "code",
   "execution_count": null,
   "metadata": {},
   "outputs": [],
   "source": [
    "def check_in(participants):\n",
    "    # YOUR CODE HERE"
   ]
  },
  {
   "cell_type": "code",
   "execution_count": null,
   "metadata": {},
   "outputs": [],
   "source": []
  }
 ],
 "metadata": {
  "kernelspec": {
   "display_name": "Python 3",
   "language": "python",
   "name": "python3"
  },
  "language_info": {
   "codemirror_mode": {
    "name": "ipython",
    "version": 3
   },
   "file_extension": ".py",
   "mimetype": "text/x-python",
   "name": "python",
   "nbconvert_exporter": "python",
   "pygments_lexer": "ipython3",
   "version": "3.8.3"
  }
 },
 "nbformat": 4,
 "nbformat_minor": 2
}
