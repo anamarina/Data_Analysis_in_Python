{
 "cells": [
  {
   "cell_type": "markdown",
   "metadata": {},
   "source": [
    "# <center> In-class Assignment 1 </center>"
   ]
  },
  {
   "cell_type": "markdown",
   "metadata": {},
   "source": [
    "**Task 1. Hangman game** \n",
    "\n",
    "You need to write a program for the Hangman word game.\n",
    "\n",
    "One player comes up with a word to guess and uses input() to save it. Only lowercase letters are allowed.\n",
    "\n",
    "The other player must guess the word by suggesting the letters in it. The user provides each new letter using the input() function. Only 10 attemps are allowed. If the word contains a letter, print \"Correct!\". If the letter is incorrect, print \"There is no such letter!\". *Hint: use ```word_set``` to check if the guessed letter is in the word or not.*\n",
    "\n",
    "If all the letters from the word are named before the attempts have ended, you should print “Bingo! The word was X \", where X is the word to guess and stop the game (you can use ```break``` on a separate line with the same indent). *Hint: you can check if a set with named letters equals the set with letters of the initial word.*"
   ]
  },
  {
   "cell_type": "code",
   "execution_count": null,
   "metadata": {},
   "outputs": [],
   "source": [
    "# First player\n",
    "word = input('A word to guess: ') # lowercase\n",
    "word_set = set(word)\n",
    "\n",
    "# Second player\n",
    "letter = input('Guessed letter: ') # lowercase\n",
    "# YOUR CODE HERE"
   ]
  },
  {
   "cell_type": "markdown",
   "metadata": {},
   "source": [
    "**Task 2. String preprocessing**.\n",
    "\n",
    "1. This is a downloaded paragraph from the main page of the United Nations website. Remove all symbols for new lines (\"\\n\"). Transform a list of all sentences into one text (= one string). \n",
    "\n",
    "2. Create a dictionary, where the keys are the words and the values are the numbers how many times each word occured in a given paragraph). Answer to the question what is the most frequent word in this paragraph?\n",
    "\n",
    "For instance: \n",
    "```python\n",
    ">>> your_dict['freedom']\n",
    "Out: 2\n",
    ">>>your_dict['human']\n",
    "Out: 4\n",
    "```"
   ]
  },
  {
   "cell_type": "code",
   "execution_count": null,
   "metadata": {},
   "outputs": [],
   "source": [
    "paragraph = [\"What Are Human Rights? Human rights are rights inherent to all human \\n\", \n",
    "\"beings, regardless of race, sex, nationality, ethnicity, language, religion, or \\n\",\n",
    "\"any other status. Human rights include the right to life and liberty, freedom \\n\",\n",
    "\"from slavery and torture, freedom of opinion and expression, the right to work \\n\",\n",
    "\"and education, and many more.\", \"  Everyone is entitled to these rights, without \",\n",
    "\"discrimination. \\nInternational human rights law lays down the obligations of Governments to act in \\n\",\n",
    "\"certain ways or to refrain from certain acts, in order to promote and protect human \\n\",\n",
    "\"rights and fundamental freedoms of individuals or groups. \\n\",\n",
    "\"One of the great achievements of the United Nations is the creation of a comprehensive \\n\",\n",
    "\"body of human rights law — a universal and internationally protected code to which all \\n\",\n",
    "\"nations can subscribe and all people aspire. The United Nations has defined a broad range \\n\",\n",
    "\"of internationally accepted rights, including civil, cultural, economic, political and \\n\",\n",
    "\"social rights. It has also established mechanisms to promote and protect these rights \\n\",\n",
    "\"and to assist states in carrying out their responsibilities.\"]"
   ]
  },
  {
   "cell_type": "code",
   "execution_count": null,
   "metadata": {},
   "outputs": [],
   "source": [
    "# YOUR CODE HERE"
   ]
  },
  {
   "cell_type": "markdown",
   "metadata": {},
   "source": [
    "**Task 3. G7 Summit** \n",
    "\n",
    "You are on the organizing committee of the G7 summit. You need to check in all the participants of the summit in a hotel with double rooms, guided by the rule: ```participants can live in one room if they are of the same sex.``` <br>\n",
    "\n",
    "You have been given a dictionary with information on all participants. \n",
    "\n",
    "Write a function that returns ```True```, if it is possible to check in $X$ participants ($X$ is the number of participants) in $\\frac{X}{2}$ rooms without violating the rule and ```False``` otherwise.\n",
    "\n",
    "```Input:```"
   ]
  },
  {
   "cell_type": "code",
   "execution_count": 1,
   "metadata": {},
   "outputs": [],
   "source": [
    "participants = {\n",
    "    'John Smith' : {'sex': 'Male', 'country': 'The United Kingdom'},\n",
    "    'Michael Phillips' : {'sex': 'Male', 'country': 'The United Kingdom'},\n",
    "    'Miranda Muller' : {'sex': 'Female', 'country': 'Germany'},\n",
    "    'Anna Schmidt' : {'sex': 'Female', 'country': 'Germany'},\n",
    "    'Giovanni Rossi' : {'sex': 'Male', 'country': 'Italy'},\n",
    "    'Giulia Colombo' : {'sex': 'Female', 'country': 'Italy'},\n",
    "    'Bob Williams' : {'sex': 'Male', 'country': 'Canada'},\n",
    "    'Sarah Harper' : {'sex': 'Female', 'country': 'Canada'},\n",
    "    'John Brown' : {'sex': 'Male', 'country': 'Canada'},\n",
    "    'Maria Davis' : {'sex': 'Female', 'country': 'Canada'},\n",
    "    'Lucas Martin' : {'sex': 'Male', 'country': 'France'},\n",
    "    'Louis Bernard' : {'sex': 'Male', 'country': 'France'},\n",
    "    'Minato Takahashi' : {'sex': 'Male', 'country': 'Japan'},\n",
    "    'Ren Suzuki' : {'sex': 'Male', 'country': 'Japan'},\n",
    "    'Paul Miller' : {'sex': 'Male', 'country': 'USA'},\n",
    "    'Andrew Scott' : {'sex': 'Male', 'country': 'USA'}\n",
    "}"
   ]
  },
  {
   "cell_type": "markdown",
   "metadata": {},
   "source": [
    "```Output```: ```False``` (because there is odd number of participants of the same sex). "
   ]
  },
  {
   "cell_type": "markdown",
   "metadata": {},
   "source": [
    "```Hint:``` Note that the values in a dictionary are also the dictionaries. If you want to access to the value of a particular delegate:\n",
    "\n",
    "```python\n",
    ">>> participants['Ren Suzuki']['sex']\n",
    "Out: Male\n",
    "```"
   ]
  },
  {
   "cell_type": "code",
   "execution_count": null,
   "metadata": {},
   "outputs": [],
   "source": [
    "def check_in(participants):\n",
    "    # YOUR CODE HERE"
   ]
  },
  {
   "cell_type": "code",
   "execution_count": null,
   "metadata": {},
   "outputs": [],
   "source": []
  }
 ],
 "metadata": {
  "kernelspec": {
   "display_name": "Python 3",
   "language": "python",
   "name": "python3"
  },
  "language_info": {
   "codemirror_mode": {
    "name": "ipython",
    "version": 3
   },
   "file_extension": ".py",
   "mimetype": "text/x-python",
   "name": "python",
   "nbconvert_exporter": "python",
   "pygments_lexer": "ipython3",
   "version": "3.8.3"
  }
 },
 "nbformat": 4,
 "nbformat_minor": 2
}
