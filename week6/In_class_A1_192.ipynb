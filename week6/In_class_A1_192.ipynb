{
 "cells": [
  {
   "cell_type": "markdown",
   "metadata": {},
   "source": [
    "# <center> In-class Assignment 1 </center>"
   ]
  },
  {
   "cell_type": "markdown",
   "metadata": {},
   "source": [
    "**Task 1**. Guessing game (countries)\n",
    "\n",
    "You got bored and decided to play with your friend in guessing words. You have selected some random country and saved this word in the variable ```country```. Your friend has 10 attempts to guess this country. If his/her answer is incorrect, your code should print \"Oh no! Try again! You have X more attempts left\", where X is the number of attempts left. If the answer is correct, congratulate him/her by displaying the message \"Correct! I should have chosen a country that is more difficult to guess.\""
   ]
  },
  {
   "cell_type": "code",
   "execution_count": null,
   "metadata": {},
   "outputs": [],
   "source": [
    "country = input('Provide a country name: ')\n",
    "\n",
    "# YOUR CODE HERE"
   ]
  },
  {
   "cell_type": "markdown",
   "metadata": {},
   "source": [
    "**Task 2**. \n",
    "1. You got an internship at The New York Times and your first task is to publish an article which includes the statements made by politicians. You are given a list of quotes from the media, each line contains a quote and the author of this statement. Create a dictionary in which the key is the author's name (a string with first and last name), and the value is the author's quote. You are not allowed to create a new dictionary manually (copy-paste, etc.). Your code should transform a list with given strings into a dictionary mentioned above. You can use additional data structures (for example, to store only the names of politicians in it) if it helps you to get to the final dictionary. \n",
    "\n",
    "2. Replace in each quote obscene words with a string \"[censored]\" each time. Hint: Each obscene word contains an asterisk. "
   ]
  },
  {
   "cell_type": "code",
   "execution_count": null,
   "metadata": {},
   "outputs": [],
   "source": [
    "quotes = [''' 'I don't sit around just talking to experts because this is a college seminar, \n",
    "we talk to these folks because they potentially have the best answers so I know whose a** to kick', \n",
    "the president Barack Obama said. ''',\n",
    "''' \"This guy has completely trampled on the rule of law, avoided consequence and accountability \n",
    " under law. For all the sh*t people give me for being a prosecutor, I believe there should be \n",
    " accountability and consequence\", said Kamala Harris. ''',\n",
    " ''' In a notorious speech in Las Vegas in 2011, Donald Trump dropped the f-word repeatedly, \n",
    " arguing that his message to China would be \"Listen you mother****ers, we’re going to tax you 25 percent!\" ''']\n",
    "\n",
    "# YOUR CODE HERE"
   ]
  },
  {
   "cell_type": "markdown",
   "metadata": {},
   "source": [
    "**Task 3**.\n",
    "\n",
    "We have 3 groups, 15 students, and their grades for the final exam. Write a function that returns back a group with the greatest number of students, who passed the exam with a grade higher than 8. If there are several groups, provide a list with them in descending order.\n",
    "\n",
    "Example: <br>\n",
    "\n",
    "```Input of your function: exam_result```"
   ]
  },
  {
   "cell_type": "code",
   "execution_count": 2,
   "metadata": {},
   "outputs": [],
   "source": [
    "exam_results = {\n",
    "    'Student 1' : {'grade': 8, 'group': 101},\n",
    "    'Student 2' : {'grade': 9, 'group': 102},\n",
    "    'Student 3' : {'grade': 6, 'group': 101},\n",
    "    'Student 4' : {'grade': 7, 'group': 103},\n",
    "    'Student 5' : {'grade': 9, 'group': 103},\n",
    "    'Student 6' : {'grade': 4, 'group': 101},\n",
    "    'Student 7' : {'grade': 2, 'group': 103},\n",
    "    'Student 8' : {'grade': 8, 'group': 102},\n",
    "    'Student 9' : {'grade': 10, 'group': 101},\n",
    "    'Student 10' : {'grade': 10, 'group': 103},\n",
    "    'Student 11' : {'grade': 6, 'group': 102},\n",
    "    'Student 12' : {'grade': 9, 'group': 102},\n",
    "    'Student 13' : {'grade': 4, 'group': 101},\n",
    "    'Student 14' : {'grade': 8, 'group': 103},\n",
    "    'Student 15' : {'grade': 5, 'group': 102},\n",
    "}"
   ]
  },
  {
   "cell_type": "markdown",
   "metadata": {},
   "source": [
    "```Output of your function```: [102, 103]\n",
    "\n",
    "*Hint*: Note that each value in this dictionary is also a dictionary. \n",
    "If you want to get a value for a grade or for a group of a particular student, you request it by key:\n",
    "\n",
    "```python\n",
    "   >>> exam_results['Student 11']['grade']\n",
    "   Out: 6\n",
    "```\n",
    "\n",
    "```python\n",
    "   >>> exam_results['Student 11']['group']\n",
    "   Out: 102\n",
    "```\n",
    "\n",
    "Also, don't forget to run a cell above for creating exam_results."
   ]
  },
  {
   "cell_type": "code",
   "execution_count": null,
   "metadata": {},
   "outputs": [],
   "source": [
    "def most_productive_group(exam_results):\n",
    "    # YOUR CODE HERE"
   ]
  },
  {
   "cell_type": "code",
   "execution_count": null,
   "metadata": {},
   "outputs": [],
   "source": []
  }
 ],
 "metadata": {
  "kernelspec": {
   "display_name": "Python 3",
   "language": "python",
   "name": "python3"
  },
  "language_info": {
   "codemirror_mode": {
    "name": "ipython",
    "version": 3
   },
   "file_extension": ".py",
   "mimetype": "text/x-python",
   "name": "python",
   "nbconvert_exporter": "python",
   "pygments_lexer": "ipython3",
   "version": "3.8.3"
  }
 },
 "nbformat": 4,
 "nbformat_minor": 2
}
