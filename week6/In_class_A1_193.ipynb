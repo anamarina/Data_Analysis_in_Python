{
 "cells": [
  {
   "cell_type": "markdown",
   "metadata": {},
   "source": [
    "# <center> In-class Assignment 1 </center>"
   ]
  },
  {
   "cell_type": "markdown",
   "metadata": {},
   "source": [
    "**Task 1**. Guessing game (magic number)\n",
    "\n",
    "You got bored and decided to play with your friend in guessing game. You have selected some random number in a range from -50 to 150 and saved this number in the variable ```magic_number```. \n",
    "\n",
    "Your friend has 15 attempts to guess this number. \n",
    "\n",
    "If the answer is correct, congratulate him/her by displaying the message \"Correct! My magic number is X.\", where X is the value in ```magic_number```. If his/her answer is incorrect, your code should print \"Incorrect! Try again! You have N more attempts\", where N is the number of attempts left.  Also, if this guessed number is out of range [-50, 150], after the message for the incorrect answer print: \"Btw, this number is out of range [-50, 150]\". "
   ]
  },
  {
   "cell_type": "code",
   "execution_count": null,
   "metadata": {},
   "outputs": [],
   "source": [
    "magic_number = input('Provide a number to guess: ')\n",
    "proposed_number = input(\"The friend's suggestion of what this number is: \")\n",
    "\n",
    "# YOUR CODE HERE"
   ]
  },
  {
   "cell_type": "markdown",
   "metadata": {},
   "source": [
    "**Task 2**. \n",
    "1. You got an internship at The Washington Post and your first task is to publish an article which includes the statements made by politicians. You are given a list of quotes from the media, each line contains a quote and the author of this statement. Replace in each quote obscene words with a string \"[a bad word]\" each time. Hint: Each obscene word contains at least one asterisk.\n",
    "\n",
    "\n",
    "2. Concatenate all updated sentences into one text (from list with strings -> one string). You need to calculate how many times each unique word occured in this text. First, you need to split the text by whitespaces in order to get words. Then, create a dictionary in which the key is the unique word (a substring after the split), and the value a number how many times it occured in this text.\n",
    "\n",
    "Example: <br>\n",
    "```python\n",
    "your_dict[\"I\"] = 3\n",
    "```\n",
    "```python\n",
    "your_dict[\"to\"] = 5\n",
    "```"
   ]
  },
  {
   "cell_type": "code",
   "execution_count": 1,
   "metadata": {},
   "outputs": [],
   "source": [
    "quotes = [''' 'I don't sit around just talking to experts because this is a college seminar, \n",
    "we talk to these folks because they potentially have the best answers so I know whose a** to \n",
    "kick', the president Barack Obama said. ''',\n",
    "''' \"This guy has completely trampled on the rule of law, avoided consequence and accountability \n",
    " under law. For all the sh*t people give me for being a prosecutor, I believe there should be \n",
    " accountability and consequence\", said Kamala Harris. ''',\n",
    " ''' In a notorious speech in Las Vegas in 2011, Donald Trump dropped the f-word repeatedly, \n",
    " arguing that his message to China would be \"Listen you mother****ers, we’re going to tax you \n",
    " 25 percent!\" ''']\n",
    "\n",
    "# YOUR CODE HERE"
   ]
  },
  {
   "cell_type": "markdown",
   "metadata": {},
   "source": [
    "**Task 3**.\n",
    "\n",
    "We have 4 groups, 20 students, and their grades for the final exam. Write a function that returns back a group with the smallest number of students, who passed the exam with a grade less than 7 (not included). If there is one such group - provide its number. If there are several groups, provide a list with them in descending order.\n",
    "\n",
    "Example: <br>\n",
    "\n",
    "```Input of your function: exam_result```"
   ]
  },
  {
   "cell_type": "code",
   "execution_count": 4,
   "metadata": {},
   "outputs": [],
   "source": [
    "exam_results = {\n",
    "    'Student 1' : {'grade': 8, 'group': 101},\n",
    "    'Student 2' : {'grade': 9, 'group': 102},\n",
    "    'Student 3' : {'grade': 10, 'group': 104},\n",
    "    'Student 4' : {'grade': 7, 'group': 103},\n",
    "    'Student 5' : {'grade': 9, 'group': 103},\n",
    "    'Student 6' : {'grade': 4, 'group': 101},\n",
    "    'Student 7' : {'grade': 2, 'group': 103},\n",
    "    'Student 8' : {'grade': 8, 'group': 102},\n",
    "    'Student 9' : {'grade': 10, 'group': 101},\n",
    "    'Student 10' : {'grade': 10, 'group': 103},\n",
    "    'Student 11' : {'grade': 6, 'group': 102},\n",
    "    'Student 12' : {'grade': 9, 'group': 102},\n",
    "    'Student 13' : {'grade': 4, 'group': 101},\n",
    "    'Student 14' : {'grade': 8, 'group': 103},\n",
    "    'Student 15' : {'grade': 5, 'group': 102},\n",
    "    'Student 16' : {'grade': 7, 'group': 104},\n",
    "    'Student 17' : {'grade': 8, 'group': 104},\n",
    "    'Student 18' : {'grade': 9, 'group': 104},\n",
    "    'Student 19' : {'grade': 10, 'group': 102},\n",
    "    'Student 20' : {'grade': 9, 'group': 104},\n",
    "}"
   ]
  },
  {
   "cell_type": "markdown",
   "metadata": {},
   "source": [
    "```Output of your function```: 104\n",
    "\n",
    "*Hint*: Note that each value in this dictionary is also a dictionary. \n",
    "If you want to get a value for a grade or for a group of a particular student, you request it by key:\n",
    "\n",
    "```python\n",
    "   >>> exam_results['Student 11']['grade']\n",
    "   Out: 6\n",
    "```\n",
    "\n",
    "```python\n",
    "   >>> exam_results['Student 11']['group']\n",
    "   Out: 102\n",
    "```\n",
    "\n",
    "Also, don't forget to run a cell above for creating exam_results."
   ]
  },
  {
   "cell_type": "code",
   "execution_count": null,
   "metadata": {},
   "outputs": [],
   "source": [
    "def most_productive_group(exam_results):\n",
    "    # YOUR CODE HERE"
   ]
  },
  {
   "cell_type": "code",
   "execution_count": null,
   "metadata": {},
   "outputs": [],
   "source": []
  }
 ],
 "metadata": {
  "kernelspec": {
   "display_name": "Python 3",
   "language": "python",
   "name": "python3"
  },
  "language_info": {
   "codemirror_mode": {
    "name": "ipython",
    "version": 3
   },
   "file_extension": ".py",
   "mimetype": "text/x-python",
   "name": "python",
   "nbconvert_exporter": "python",
   "pygments_lexer": "ipython3",
   "version": "3.8.3"
  }
 },
 "nbformat": 4,
 "nbformat_minor": 2
}
