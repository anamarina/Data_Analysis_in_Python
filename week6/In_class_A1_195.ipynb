{
 "cells": [
  {
   "cell_type": "markdown",
   "metadata": {},
   "source": [
    "# <center> In-class Assignment 1 </center>"
   ]
  },
  {
   "cell_type": "markdown",
   "metadata": {},
   "source": [
    "**Task 1. Word game** \n",
    "\n",
    "You need to write a program for a word game. Each word, except the first, is entered by the user using the input () function. In total, the user needs to make 10 moves (name 10 new words after the first word). Each new word must start with the same letter that the previous word ends with. If the word has already been called earlier (is duplicated) or the first letter of the new word is not the same as the last letter of the previous word, the game ends with the phrase \"The rules of the game are violated.\"\n",
    "\n",
    "The game starts with a word \"luck\". "
   ]
  },
  {
   "cell_type": "code",
   "execution_count": null,
   "metadata": {},
   "outputs": [],
   "source": [
    "word = 'luck'\n",
    "new_word = input('Next word: ')\n",
    "\n",
    "# YOUR CODE HERE"
   ]
  },
  {
   "cell_type": "markdown",
   "metadata": {},
   "source": [
    "**Task 2. String preprocessing**.\n",
    "\n",
    "1. This is a downloaded paragraph from the main page of the United Nations website. Remove all symbols for new lines (\"\\n\"). Transform a list of all sentences into one text (= one string). \n",
    "\n",
    "2. Create a dictionary, where the keys are the words: rights, freedom, human, protect. Compute how many times each of these words occurred in a paragraph and save it as values in this dictionary. Answer to the question what is the most frequent word out of these 4 words?\n",
    "\n",
    "For instance: \n",
    "```python\n",
    ">>> your_dict['freedom']\n",
    "Out: 2\n",
    ">>>your_dict['human']\n",
    "Out: 4\n",
    "```"
   ]
  },
  {
   "cell_type": "code",
   "execution_count": 1,
   "metadata": {},
   "outputs": [],
   "source": [
    "paragraph = [\"What Are Human Rights? Human rights are rights inherent to all human \\n\", \n",
    "\"beings, regardless of race, sex, nationality, ethnicity, language, religion, or \\n\",\n",
    "\"any other status. Human rights include the right to life and liberty, freedom \\n\",\n",
    "\"from slavery and torture, freedom of opinion and expression, the right to work \\n\",\n",
    "\"and education, and many more.\", \"  Everyone is entitled to these rights, without \",\n",
    "\"discrimination. \\nInternational human rights law lays down the obligations of Governments to act in \\n\",\n",
    "\"certain ways or to refrain from certain acts, in order to promote and protect human \\n\",\n",
    "\"rights and fundamental freedoms of individuals or groups. \\n\",\n",
    "\"One of the great achievements of the United Nations is the creation of a comprehensive \\n\",\n",
    "\"body of human rights law — a universal and internationally protected code to which all \\n\",\n",
    "\"nations can subscribe and all people aspire. The United Nations has defined a broad range \\n\",\n",
    "\"of internationally accepted rights, including civil, cultural, economic, political and \\n\",\n",
    "\"social rights. It has also established mechanisms to promote and protect these rights \\n\",\n",
    "\"and to assist states in carrying out their responsibilities.\"]"
   ]
  },
  {
   "cell_type": "code",
   "execution_count": null,
   "metadata": {},
   "outputs": [],
   "source": [
    "# YOUR CODE HERE"
   ]
  },
  {
   "cell_type": "markdown",
   "metadata": {},
   "source": [
    "**Task 3. G7 Summit** \n",
    "\n",
    "You are on the organizing committee of the G7 summit. You need to check in all the participants of the summit in a hotel with double rooms, guided by the rule: ```participants can live in one room if they are delegates from the same country.``` <br>\n",
    "\n",
    "You have been given a dictionary with information on all participants. \n",
    "\n",
    "Write a function that returns ```True```, if it is possible to check in $X$ participants ($X$ is the number of participants) in $\\frac{X}{2}$ rooms without violating the rule and ```False``` otherwise.\n",
    "\n",
    "```Input:```"
   ]
  },
  {
   "cell_type": "code",
   "execution_count": 2,
   "metadata": {},
   "outputs": [],
   "source": [
    "participants = {\n",
    "    'John Smith' : {'country': 'The United Kingdom'},\n",
    "    'Michael Phillips' : {'country': 'The United Kingdom'},\n",
    "    'Miranda Muller' : {'country': 'Germany'},\n",
    "    'Anna Schmidt' : {'country': 'Germany'},\n",
    "    'Giovanni Rossi' : {'country': 'Italy'},\n",
    "    'Giulia Colombo' : {'country': 'Italy'},\n",
    "    'Bob Williams' : {'country': 'Canada'},\n",
    "    'Sarah Harper' : {'country': 'Canada'},\n",
    "    'John Brown' : {'country': 'Canada'},\n",
    "    'Maria Davis' : {'country': 'Canada'},\n",
    "    'Lucas Martin' : {'country': 'France'},\n",
    "    'Louis Bernard' : {'country': 'France'},\n",
    "    'Minato Takahashi' : {'country': 'Japan'},\n",
    "    'Ren Suzuki' : {'country': 'Japan'},\n",
    "    'Paul Miller' : {'country': 'USA'},\n",
    "    'Andrew Scott' : {'country': 'USA'}\n",
    "}"
   ]
  },
  {
   "cell_type": "markdown",
   "metadata": {},
   "source": [
    "```Output```: ```True``` (because there is even number of participants from each country). "
   ]
  },
  {
   "cell_type": "markdown",
   "metadata": {},
   "source": [
    "```Hint:``` Note that the values in a dictionary are also the dictionaries. If you want to access to the value of a particular delegate:\n",
    "\n",
    "```python\n",
    ">>> participants['Ren Suzuki']['country']\n",
    "Out: Japan\n",
    "```"
   ]
  },
  {
   "cell_type": "code",
   "execution_count": null,
   "metadata": {},
   "outputs": [],
   "source": [
    "def check_in(participants):\n",
    "    # YOUR CODE HERE"
   ]
  },
  {
   "cell_type": "code",
   "execution_count": null,
   "metadata": {},
   "outputs": [],
   "source": []
  }
 ],
 "metadata": {
  "kernelspec": {
   "display_name": "Python 3",
   "language": "python",
   "name": "python3"
  },
  "language_info": {
   "codemirror_mode": {
    "name": "ipython",
    "version": 3
   },
   "file_extension": ".py",
   "mimetype": "text/x-python",
   "name": "python",
   "nbconvert_exporter": "python",
   "pygments_lexer": "ipython3",
   "version": "3.8.3"
  }
 },
 "nbformat": 4,
 "nbformat_minor": 2
}
